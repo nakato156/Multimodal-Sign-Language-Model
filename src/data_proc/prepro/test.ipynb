{
 "cells": [
  {
   "cell_type": "code",
   "execution_count": null,
   "id": "43d9d633",
   "metadata": {},
   "outputs": [],
   "source": [
    "from keypoint_dataset import KeypointDataset\n",
    "import matplotlib.pyplot as plt\n",
    "from matplotlib.animation import FuncAnimation\n",
    "from IPython.display import HTML\n",
    "from tqdm import tqdm\n",
    "import torch\n",
    "import numpy as np"
   ]
  },
  {
   "cell_type": "code",
   "execution_count": null,
   "id": "372fbe1a",
   "metadata": {},
   "outputs": [],
   "source": [
    "datasetPath = \"/home/giorgio6846/Code/Sign-AI/data/dataset1.hdf5\"\n",
    "kd = KeypointDataset(datasetPath, return_label=True, max_length=20000000000)\n",
    "\n"
   ]
  },
  {
   "cell_type": "code",
   "execution_count": null,
   "id": "1af91a3d",
   "metadata": {},
   "outputs": [],
   "source": [
    "minValue = float('inf')\n",
    "maxValue = float('-inf')\n",
    "lengths = []\n",
    "\n",
    "for idx in tqdm(range(len(kd)), desc=\"Analizando longitudes\"):\n",
    "    keypoints_frames = kd[idx][0].shape[0]  # cantidad de frames\n",
    "    lengths.append(keypoints_frames)\n",
    "    minValue = min(keypoints_frames, minValue)\n",
    "    maxValue = max(keypoints_frames, maxValue)\n",
    "\n",
    "print(f\"Min length: {minValue} frames\")\n",
    "print(f\"Max length: {maxValue} frames\")\n",
    "print(f\"Promedio: {sum(lengths)/len(lengths):.2f} frames\")\n"
   ]
  }
 ],
 "metadata": {
  "kernelspec": {
   "display_name": "Sign",
   "language": "python",
   "name": "python3"
  },
  "language_info": {
   "codemirror_mode": {
    "name": "ipython",
    "version": 3
   },
   "file_extension": ".py",
   "mimetype": "text/x-python",
   "name": "python",
   "nbconvert_exporter": "python",
   "pygments_lexer": "ipython3",
   "version": "3.11.11"
  }
 },
 "nbformat": 4,
 "nbformat_minor": 5
}
