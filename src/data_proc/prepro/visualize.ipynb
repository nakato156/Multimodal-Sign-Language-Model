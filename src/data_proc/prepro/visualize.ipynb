{
 "cells": [
  {
   "cell_type": "code",
   "execution_count": 1,
   "id": "cda93189",
   "metadata": {},
   "outputs": [
    {
     "ename": "ModuleNotFoundError",
     "evalue": "No module named 'keypoint_dataset'",
     "output_type": "error",
     "traceback": [
      "\u001b[31m---------------------------------------------------------------------------\u001b[39m",
      "\u001b[31mModuleNotFoundError\u001b[39m                       Traceback (most recent call last)",
      "\u001b[36mCell\u001b[39m\u001b[36m \u001b[39m\u001b[32mIn[1]\u001b[39m\u001b[32m, line 1\u001b[39m\n\u001b[32m----> \u001b[39m\u001b[32m1\u001b[39m \u001b[38;5;28;01mfrom\u001b[39;00m\u001b[38;5;250m \u001b[39m\u001b[34;01mkeypoint_dataset\u001b[39;00m\u001b[38;5;250m \u001b[39m\u001b[38;5;28;01mimport\u001b[39;00m KeypointDataset\n\u001b[32m      2\u001b[39m \u001b[38;5;28;01mimport\u001b[39;00m\u001b[38;5;250m \u001b[39m\u001b[34;01mmatplotlib\u001b[39;00m\u001b[34;01m.\u001b[39;00m\u001b[34;01mpyplot\u001b[39;00m\u001b[38;5;250m \u001b[39m\u001b[38;5;28;01mas\u001b[39;00m\u001b[38;5;250m \u001b[39m\u001b[34;01mplt\u001b[39;00m\n\u001b[32m      3\u001b[39m \u001b[38;5;28;01mfrom\u001b[39;00m\u001b[38;5;250m \u001b[39m\u001b[34;01mmatplotlib\u001b[39;00m\u001b[34;01m.\u001b[39;00m\u001b[34;01manimation\u001b[39;00m\u001b[38;5;250m \u001b[39m\u001b[38;5;28;01mimport\u001b[39;00m FuncAnimation\n",
      "\u001b[31mModuleNotFoundError\u001b[39m: No module named 'keypoint_dataset'"
     ]
    }
   ],
   "source": [
    "from keypoint_dataset import KeypointDataset\n",
    "import matplotlib.pyplot as plt\n",
    "from matplotlib.animation import FuncAnimation\n",
    "from IPython.display import HTML"
   ]
  },
  {
   "cell_type": "code",
   "execution_count": null,
   "id": "741930c8",
   "metadata": {},
   "outputs": [],
   "source": [
    "datasetPath = \"/home/giorgio6846/Code/Sign-AI/data/dataset.hdf5\"\n",
    "kd = KeypointDataset(datasetPath, return_label=True)"
   ]
  },
  {
   "cell_type": "code",
   "execution_count": null,
   "id": "bd147311",
   "metadata": {},
   "outputs": [],
   "source": [
    "len(kd)"
   ]
  },
  {
   "cell_type": "code",
   "execution_count": null,
   "id": "54bd584c",
   "metadata": {},
   "outputs": [],
   "source": [
    "keypoints = kd[1][0]"
   ]
  },
  {
   "cell_type": "code",
   "execution_count": null,
   "id": "ae55403b",
   "metadata": {},
   "outputs": [],
   "source": [
    "kd[1][1].shape"
   ]
  },
  {
   "cell_type": "code",
   "execution_count": null,
   "id": "6c8a4b4c",
   "metadata": {},
   "outputs": [],
   "source": [
    "shapes = [kd[idx][0].shape[0] for idx in range(len(kd))]\n",
    "minValue = min(shapes)\n",
    "maxValue = max(shapes)\n",
    "\n",
    "print(minValue)\n",
    "print(maxValue)"
   ]
  },
  {
   "cell_type": "code",
   "execution_count": null,
   "id": "933d4e92",
   "metadata": {},
   "outputs": [],
   "source": [
    "keypoints.shape[0]"
   ]
  },
  {
   "cell_type": "code",
   "execution_count": null,
   "id": "7660f5bd",
   "metadata": {},
   "outputs": [],
   "source": [
    "fig, ax = plt.subplots(figsize=(6, 6))\n",
    "scat = ax.scatter(keypoints[0, :, 0], keypoints[0, :, 1], s=20, c='blue')\n",
    "ax.set_xlim(0, 1)\n",
    "ax.set_ylim(0, 1)\n",
    "ax.invert_yaxis()\n",
    "ax.set_title(\"Frame 0\")"
   ]
  },
  {
   "cell_type": "code",
   "execution_count": null,
   "id": "76eeeb91",
   "metadata": {},
   "outputs": [],
   "source": [
    "def update(frame_index):\n",
    "    points = keypoints[frame_index]       # [250, 2]\n",
    "    scat.set_offsets(points)           # Move every scatter point to new coords\n",
    "    ax.set_title(f\"Frame {frame_index}\")\n",
    "    return (scat,)"
   ]
  },
  {
   "cell_type": "code",
   "execution_count": null,
   "id": "0bc27e6a",
   "metadata": {},
   "outputs": [],
   "source": [
    "anim = FuncAnimation(\n",
    "    fig,\n",
    "    update,\n",
    "    frames=keypoints.shape[0],  # 148\n",
    "    interval=50,             # 50 ms between frames (≈20 FPS)\n",
    "    blit=True\n",
    ")\n",
    "HTML(anim.to_jshtml())\n"
   ]
  }
 ],
 "metadata": {
  "kernelspec": {
   "display_name": "Sign",
   "language": "python",
   "name": "python3"
  },
  "language_info": {
   "codemirror_mode": {
    "name": "ipython",
    "version": 3
   },
   "file_extension": ".py",
   "mimetype": "text/x-python",
   "name": "python",
   "nbconvert_exporter": "python",
   "pygments_lexer": "ipython3",
   "version": "3.11.0"
  }
 },
 "nbformat": 4,
 "nbformat_minor": 5
}
