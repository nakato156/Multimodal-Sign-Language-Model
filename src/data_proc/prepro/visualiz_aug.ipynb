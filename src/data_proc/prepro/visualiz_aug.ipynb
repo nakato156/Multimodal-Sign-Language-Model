{
 "cells": [
  {
   "cell_type": "code",
   "execution_count": null,
   "id": "4c94880b",
   "metadata": {},
   "outputs": [],
   "source": [
    "import h5py\n",
    "import torch\n",
    "import numpy as np\n",
    "import matplotlib.pyplot as plt\n",
    "from random import randint\n",
    "\n",
    "from keypoint_dataset import KeypointDataset, keypoint_normalization,gaussian_jitter, length_variance, rotation_2D, scaling, horizontal_flip\n",
    "\n"
   ]
  },
  {
   "cell_type": "code",
   "execution_count": null,
   "id": "8e96f453",
   "metadata": {},
   "outputs": [],
   "source": [
    "\n",
    "# Visualizar keypoints\n",
    "def plot_keypoints(keypoints, title=\"Keypoints\"):\n",
    "    \"\"\"\n",
    "    Función para graficar los keypoints 2D.\n",
    "    keypoints: Tensor de shape (T, N, 2) donde T es el número de frames, N es el número de keypoints y 2 son las coordenadas.\n",
    "    \"\"\"\n",
    "    plt.figure(figsize=(10, 6))\n",
    "    for frame in range(keypoints.shape[0]):  # Iteramos sobre cada frame de la secuencia\n",
    "        plt.plot(keypoints[frame, :, 0].numpy(), keypoints[frame, :, 1].numpy(), 'bo-', alpha=0.6)  # 'bo-' es para dibujar puntos con líneas\n",
    "    plt.title(title)\n",
    "    plt.xlabel(\"X\")\n",
    "    plt.ylabel(\"Y\")\n",
    "    plt.show()\n"
   ]
  },
  {
   "cell_type": "code",
   "execution_count": null,
   "id": "bb2a3c79",
   "metadata": {},
   "outputs": [],
   "source": [
    "! dir \"/home/giorgio6846/Code/Sign-AI/data/\""
   ]
  },
  {
   "cell_type": "code",
   "execution_count": null,
   "id": "77433a01",
   "metadata": {},
   "outputs": [],
   "source": [
    "h5_file = \"/home/giorgio6846/Code/Sign-AI/data/dataset_clean_clean.hdf5\"\n",
    "kd = KeypointDataset(h5_file, data_augmentation=True, return_label=True)\n",
    "train_dataset, validation_dataset, train_length, val_length = kd.split_dataset(0.5)"
   ]
  },
  {
   "cell_type": "code",
   "execution_count": null,
   "id": "624da5cf",
   "metadata": {},
   "outputs": [],
   "source": [
    "import matplotlib.pyplot as plt\n",
    "from matplotlib.animation import FuncAnimation\n",
    "from IPython.display import HTML\n",
    "\n",
    "def visualize_augmentation(keypoints, f_keypoint, augmentation_name=\"\"):\n",
    "    \"\"\"\n",
    "    Visualiza la animación de los keypoints originales y los keypoints después de una augmentación.\n",
    "    \n",
    "    Args:\n",
    "    - keypoints: Tensor de shape (T, N, 2) para los keypoints originales.\n",
    "    - f_keypoint: Tensor de shape (T, N, 2) para los keypoints después de aplicar la augmentación.\n",
    "    - augmentation_name: Nombre de la augmentación para mostrar en los títulos.\n",
    "    \"\"\"\n",
    "    fig, ax = plt.subplots(1, 2, figsize=(10, 5))  # ax será ahora un array con 2 elementos\n",
    "    ax[0].set_title(f'Keypoints Originales - {augmentation_name}')\n",
    "    ax[1].set_title(f'Keypoints aumentados - {augmentation_name}')\n",
    "\n",
    "    # Graficar los puntos clave en ambos subgráficos\n",
    "    sc1 = ax[0].scatter(keypoints[0, :, 0], keypoints[0, :, 1], s=10, c='blue', alpha=0.5)\n",
    "    sc2 = ax[1].scatter(f_keypoint[0, :, 0], f_keypoint[0, :, 1], s=10, c='red', alpha=0.5)\n",
    "\n",
    "    # Configuración de la visualización\n",
    "    for a in ax:\n",
    "        a.grid(True)\n",
    "        a.set_aspect('equal')\n",
    "        a.invert_yaxis()  # Invertir eje Y para que coincida con la convención de coordenadas\n",
    "\n",
    "    # Función para actualizar la animación\n",
    "    def update(frame):\n",
    "        points = keypoints[frame]\n",
    "        filtered_points = f_keypoint[frame]\n",
    "        sc1.set_offsets(points)  # Actualizar posiciones de keypoints originales\n",
    "        sc2.set_offsets(filtered_points)  # Actualizar posiciones de keypoints filtrados\n",
    "        ax[0].set_title(f'Frame {frame} - Original')\n",
    "        ax[1].set_title(f'Frame {frame} - Filtrado')\n",
    "        return sc1, sc2\n",
    "\n",
    "    #  Definir cuántos frames usar (el mínimo entre ambos)\n",
    "    frames = min(keypoints.shape[0], f_keypoint.shape[0])\n",
    "\n",
    "    # Crear y devolver la animación\n",
    "    anim = FuncAnimation(fig, update, frames=frames, interval=50, blit=True)\n",
    "    return HTML(anim.to_jshtml())\n",
    "\n",
    "\n",
    "#visualize_augmentation(keypoints, f_keypoint, augmentation_name=\"Gaussian Jitter\")\n"
   ]
  },
  {
   "cell_type": "code",
   "execution_count": null,
   "id": "a0743bc7",
   "metadata": {},
   "outputs": [],
   "source": [
    "keypoints = train_dataset[2][0]\n",
    "visualize_augmentation(train_dataset[0][0], train_dataset[4][0], augmentation_name=\"Gaussian Jitter\")"
   ]
  },
  {
   "cell_type": "code",
   "execution_count": null,
   "id": "0690fbbd",
   "metadata": {},
   "outputs": [],
   "source": [
    "\n",
    "keypoints = kd[1200][0].clone()\n",
    "\n",
    "import time\n",
    "\n",
    "start = time.time()\n",
    "f_keypoint = gaussian_jitter(keypoints, sigma=0.004, clip=3.0)\n",
    "\n",
    "visualize_augmentation(keypoints, f_keypoint, augmentation_name=\"Gaussian Jitter\")\n"
   ]
  },
  {
   "cell_type": "code",
   "execution_count": null,
   "id": "57b8b156",
   "metadata": {},
   "outputs": [],
   "source": [
    "f_keypoint = length_variance(keypoints)\n",
    "\n",
    "visualize_augmentation(keypoints, f_keypoint, augmentation_name=\"Length Variance\")"
   ]
  },
  {
   "cell_type": "code",
   "execution_count": null,
   "id": "d7ac0174",
   "metadata": {},
   "outputs": [],
   "source": [
    "\n",
    "#Aplicar augmentación: Rotation 2D\n",
    "f_keypoint = rotation_2D(keypoints)\n",
    "visualize_augmentation(keypoints, f_keypoint, augmentation_name=\"Rotation 2D\")\n"
   ]
  },
  {
   "cell_type": "code",
   "execution_count": null,
   "id": "52c40a40",
   "metadata": {},
   "outputs": [],
   "source": [
    "\n",
    "\n",
    "# # Aplicar augmentación: Horizontal Flip\n",
    "# f_keypoint = horizontal_flip(keypoints)\n",
    "# visualize_augmentation(keypoints, f_keypoint, augmentation_name=\"Horizontal Flip\")\n"
   ]
  },
  {
   "cell_type": "code",
   "execution_count": null,
   "id": "77c0a0c4",
   "metadata": {},
   "outputs": [],
   "source": [
    "\n",
    "# Aplicar augmentación: Scaling\n",
    "f_keypoint = scaling(keypoints)\n",
    "visualize_augmentation(keypoints, f_keypoint, augmentation_name=\"Scaling\")"
   ]
  },
  {
   "cell_type": "code",
   "execution_count": null,
   "id": "9b6c0529",
   "metadata": {},
   "outputs": [],
   "source": [
    "\n",
    "\n",
    "import time\n",
    "\n",
    "keypoints = kd[1200][0].clone()\n",
    "\n",
    "def measure_time(func, *args, **kwargs):\n",
    "    start = time.time()\n",
    "    result = func(*args, **kwargs)\n",
    "    end = time.time()\n",
    "    print(f\"Time taken: {((end - start)*1000):.4f} ms\")\n",
    "    return result\n",
    "\n",
    "f_keypoint = measure_time(gaussian_jitter, keypoints, sigma=0.004, clip=3.0)\n",
    "f_keypoint = measure_time(rotation_2D, keypoints)\n",
    "f_keypoint = measure_time(scaling, keypoints)\n",
    "f_keypoint = measure_time(length_variance, keypoints)\n",
    "\n",
    "\n"
   ]
  }
 ],
 "metadata": {
  "kernelspec": {
   "display_name": "Sign",
   "language": "python",
   "name": "python3"
  },
  "language_info": {
   "codemirror_mode": {
    "name": "ipython",
    "version": 3
   },
   "file_extension": ".py",
   "mimetype": "text/x-python",
   "name": "python",
   "nbconvert_exporter": "python",
   "pygments_lexer": "ipython3",
   "version": "3.11.11"
  }
 },
 "nbformat": 4,
 "nbformat_minor": 5
}
