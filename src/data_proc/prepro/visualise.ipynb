{
 "cells": [
  {
   "cell_type": "code",
   "execution_count": null,
   "id": "29224fdf",
   "metadata": {},
   "outputs": [],
   "source": [
    "from keypoint_dataset import KeypointDataset\n",
    "import matplotlib.pyplot as plt\n",
    "from matplotlib.animation import FuncAnimation\n",
    "from IPython.display import HTML\n",
    "from tqdm import tqdm\n",
    "import torch\n",
    "import numpy as np"
   ]
  },
  {
   "cell_type": "code",
   "execution_count": null,
   "id": "fd12692e",
   "metadata": {},
   "outputs": [],
   "source": [
    "datasetPath = \"/home/giorgio6846/Code/Sign-AI/data/dataset_clean.hdf5\"\n",
    "kd = KeypointDataset(datasetPath, return_label=True, max_length=20000000000)\n",
    "\n"
   ]
  },
  {
   "cell_type": "code",
   "execution_count": null,
   "id": "47fa2cf5",
   "metadata": {},
   "outputs": [],
   "source": [
    "import h5py\n",
    "import matplotlib.pyplot as plt\n",
    "\n",
    "with h5py.File(datasetPath, \"r\") as f:\n",
    "    first_clip = list(f.keys())[0]\n",
    "    sample = list(f[first_clip][\"keypoints\"].values())[0][:]\n",
    "    print(\"Shape:\", sample.shape)\n"
   ]
  },
  {
   "cell_type": "code",
   "execution_count": null,
   "id": "990361c1",
   "metadata": {},
   "outputs": [],
   "source": [
    "import matplotlib.pyplot as plt\n",
    "\n",
    "def plot_keypoints(frame, title=\"Frame Keypoints\"):\n",
    "    frame = torch.as_tensor(frame, dtype=torch.float32)\n",
    "    x = frame[:, 0]\n",
    "    y = -frame[:, 1]  # invertir para que se vea con orientación humana\n",
    "\n",
    "    plt.figure(figsize=(6, 6))\n",
    "    plt.scatter(x, y, c='g', label='Mano izq')\n",
    "\n",
    "    plt.title(title)\n",
    "    plt.legend()\n",
    "    plt.grid(True)\n",
    "    plt.axis('equal')\n",
    "    plt.show()\n",
    "\n",
    "plot_keypoints(sample[0], \"Sample Keypoints\")"
   ]
  },
  {
   "cell_type": "code",
   "execution_count": null,
   "id": "5635996e",
   "metadata": {},
   "outputs": [],
   "source": [
    "import pandas as pd\n",
    "\n",
    "# to df\n",
    "df = pd.DataFrame(sample[1], columns=[\"x\", \"y\"])\n",
    "df.shape\n",
    "\n"
   ]
  },
  {
   "cell_type": "code",
   "execution_count": null,
   "id": "a917ac11",
   "metadata": {},
   "outputs": [],
   "source": [
    "df[\n",
    "df.duplicated()]\n",
    "\n"
   ]
  },
  {
   "cell_type": "code",
   "execution_count": null,
   "id": "052bbe8d",
   "metadata": {},
   "outputs": [],
   "source": [
    "import matplotlib.pyplot as plt\n",
    "import matplotlib.animation as animation\n",
    "from IPython.display import HTML\n",
    "import torch\n",
    "\n",
    "def animate_keypoints(frame, interval=50):\n",
    "    \"\"\"\n",
    "    Muestra los keypoints uno por uno con su índice.\n",
    "    \"\"\"\n",
    "    frame = torch.as_tensor(frame, dtype=torch.float32)\n",
    "    x = frame[:, 0].numpy()\n",
    "    y = -frame[:, 1].numpy()  # invertimos eje Y para orientación humana\n",
    "\n",
    "    fig, ax = plt.subplots(figsize=(6, 6))\n",
    "    scat = ax.scatter([], [], s=20)\n",
    "    ax.set_xlim(x.min() - 50, x.max() + 50)\n",
    "    ax.set_ylim(y.min() - 50, y.max() + 50)\n",
    "    ax.set_title(\"Keypoints por índice\")\n",
    "    ax.grid(True)\n",
    "\n",
    "    coords = []\n",
    "    texts = []\n",
    "\n",
    "    def update(i):\n",
    "        coords.append((x[i], y[i]))\n",
    "        scat.set_offsets(coords)\n",
    "\n",
    "        # Añadir el índice como texto sobre el keypoint actual\n",
    "        text = ax.text(x[i], y[i], str(i), fontsize=8, color='red')\n",
    "        texts.append(text)\n",
    "\n",
    "        return scat, *texts\n",
    "\n",
    "    ani = animation.FuncAnimation(fig, update, frames=len(x), interval=interval, repeat=False)\n",
    "    plt.close(fig)\n",
    "    return HTML(ani.to_jshtml())\n",
    "\n",
    "animate_keypoints(sample[0], interval=100)\n"
   ]
  },
  {
   "cell_type": "markdown",
   "id": "d714b730",
   "metadata": {},
   "source": [
    "Hypo keypoints:\n",
    "\n",
    "0: ref. cara\n",
    "1: ref cuello\n",
    "2,3,4 ref hombro der, ref codo der, ref mano\n",
    "\n",
    "5,6,7: same izq\n",
    "\n",
    "8 (?) DER\n",
    "9 (?) IZQ\n",
    "10 (9)\n",
    "\n",
    "\n",
    "14-17 cejas\n",
    "\n",
    "\n",
    "pose = person[0:25,:]\n",
    "\n",
    "face = person[25:95,:]\n",
    "\n",
    "hand_l = person[95:116,:]\n",
    "\n",
    "hand_r = person[0,133,:]\n",
    "\n",
    "\n",
    "\n",
    "center = (person[1] + person[4]) / 2\n",
    "scale = scale if scale != 0 else 1.0\n",
    "normalized = (person - center) / scale\n",
    "\n"
   ]
  },
  {
   "cell_type": "code",
   "execution_count": null,
   "id": "016e33ae",
   "metadata": {},
   "outputs": [],
   "source": []
  },
  {
   "cell_type": "markdown",
   "id": "d7bb0aaa",
   "metadata": {},
   "source": [
    "Prepro hh"
   ]
  },
  {
   "cell_type": "code",
   "execution_count": null,
   "id": "cd55aee1",
   "metadata": {},
   "outputs": [],
   "source": [
    "len(kd)"
   ]
  },
  {
   "cell_type": "markdown",
   "id": "f4fdb8bc",
   "metadata": {},
   "source": [
    "---"
   ]
  },
  {
   "cell_type": "code",
   "execution_count": null,
   "id": "c313dd71",
   "metadata": {},
   "outputs": [],
   "source": [
    "minValue = float('inf')\n",
    "maxValue = float('-inf')\n",
    "lengths = []\n",
    "\n",
    "for idx in tqdm(range(len(kd)), desc=\"Analizando longitudes\"):\n",
    "    keypoints_frames = kd[idx][0].shape[0]  # cantidad de frames\n",
    "    lengths.append(keypoints_frames)\n",
    "    minValue = min(keypoints_frames, minValue)\n",
    "    maxValue = max(keypoints_frames, maxValue)\n",
    "\n",
    "print(f\"Min length: {minValue} frames\")\n",
    "print(f\"Max length: {maxValue} frames\")\n",
    "print(f\"Promedio: {sum(lengths)/len(lengths):.2f} frames\")\n"
   ]
  },
  {
   "cell_type": "code",
   "execution_count": null,
   "id": "195b0752",
   "metadata": {},
   "outputs": [],
   "source": [
    "\n",
    "plt.hist(lengths, bins=30)\n",
    "plt.title(\"Distribución de longitudes de secuencia\")\n",
    "plt.xlabel(\"Frames por muestra\")\n",
    "plt.ylabel(\"Frecuencia\")\n",
    "plt.show()\n"
   ]
  },
  {
   "cell_type": "code",
   "execution_count": null,
   "id": "b132c639",
   "metadata": {},
   "outputs": [],
   "source": [
    "# Percentil 95 para decidir max_seq_len sin truncar tanto\n",
    "p95 = int(np.percentile(lengths, 95))\n",
    "print(f\"Sugerencia: usar max_seq_len = {p95} cubre el 95% de los clips\")\n",
    "\n",
    "# Visualización\n",
    "plt.hist(lengths, bins=30, color='skyblue', edgecolor='black')\n",
    "plt.axvline(p95, color='red', linestyle='--', label=f'95% ≤ {p95}')\n",
    "plt.title(\"Distribución de longitudes de secuencia\")\n",
    "plt.xlabel(\"Frames por muestra\")\n",
    "plt.ylabel(\"Frecuencia\")\n",
    "plt.legend()\n",
    "plt.grid(True)\n",
    "plt.tight_layout()\n",
    "plt.show()"
   ]
  },
  {
   "cell_type": "markdown",
   "id": "6c485ff9",
   "metadata": {},
   "source": [
    "---"
   ]
  },
  {
   "cell_type": "code",
   "execution_count": null,
   "id": "75e54208",
   "metadata": {},
   "outputs": [],
   "source": [
    "keypoints = kd[4000][0].clone()\n",
    "keypoints.shape\n",
    "\n"
   ]
  },
  {
   "cell_type": "code",
   "execution_count": null,
   "id": "c30ea060",
   "metadata": {},
   "outputs": [],
   "source": [
    "def filter_keypoints_preserve_indices(keypoints, keep_n=130, preserve_idx=None):\n",
    "    \"\"\"\n",
    "    Filtra keypoints por varianza temporal, preservando algunos índices.\n",
    "\n",
    "    Args:\n",
    "        keypoints: Tensor (T, N, 2)\n",
    "        keep_n: número total de keypoints que quieres conservar\n",
    "        preserve_idx: lista de índices que siempre deben conservarse (ej. manos, rostro)\n",
    "\n",
    "    Returns:\n",
    "        filtered: Tensor (T, N, 2) con puntos fuera de la máscara puestos en 0\n",
    "        final_mask: Tensor (N,) booleano indicando puntos válidos\n",
    "    \"\"\"\n",
    "    T, N, _ = keypoints.shape\n",
    "    if preserve_idx is None:\n",
    "        preserve_idx = []\n",
    "\n",
    "    # Calcula varianza por keypoint (temporalmente)\n",
    "    var = keypoints.var(dim=0).mean(dim=1)  # (N,)\n",
    "\n",
    "    # Los que ya están preservados\n",
    "    preserve_mask = torch.zeros(N, dtype=torch.bool)\n",
    "    preserve_mask[preserve_idx] = True\n",
    "\n",
    "    # De los que NO están preservados, ordena por varianza\n",
    "    num_to_select = max(keep_n - len(preserve_idx), 0)\n",
    "    rest_idx = [i for i in range(N) if i not in preserve_idx]\n",
    "    rest_var = var[rest_idx]\n",
    "    _, top_rest_idx = torch.topk(-rest_var, k=num_to_select)  # -var para menor varianza\n",
    "    selected_rest = [rest_idx[i.item()] for i in top_rest_idx]\n",
    "\n",
    "    # Unión de preservados + seleccionados\n",
    "    final_mask = torch.zeros(N, dtype=torch.bool)\n",
    "    final_mask[preserve_idx] = True\n",
    "    final_mask[selected_rest] = True\n",
    "\n",
    "    # Aplicar la máscara\n",
    "    filtered = keypoints.clone()\n",
    "    for i in range(N):\n",
    "        if not final_mask[i]:\n",
    "            filtered[:, i] = 0\n",
    "\n",
    "    return filtered, final_mask\n"
   ]
  },
  {
   "cell_type": "code",
   "execution_count": null,
   "id": "b334bc96",
   "metadata": {},
   "outputs": [],
   "source": [
    "f_keypoint = filter_keypoints_preserve_indices(keypoints,)\n",
    "\n",
    "f_keypoint = keypoints"
   ]
  },
  {
   "cell_type": "code",
   "execution_count": null,
   "id": "87b546e0",
   "metadata": {},
   "outputs": [],
   "source": [
    "fig, ax = plt.subplots(1, 2, figsize=(10, 5))  # ax será ahora un array con 2 elementos\n",
    "ax[0].set_title('Keypoints Originales')\n",
    "ax[1].set_title('Keypoints Filtrados')\n",
    "\n",
    "sc1 = ax[0].scatter(keypoints[0, :, 0], keypoints[0, :, 1], s=10, c='blue', alpha=0.5)\n",
    "sc2 = ax[1].scatter(f_keypoint[0, :, 0], f_keypoint[0, :, 1], s=10, c='red', alpha=0.5)\n",
    "for a in ax:\n",
    "    #ax.set_xlim(0, 1)\n",
    "    #ax.set_ylim(0, 1)\n",
    "    a.grid(True)\n",
    "    a.set_aspect('equal')\n",
    "    a.invert_yaxis()  # Invertir eje Y para que coincida con la convención de coordenadas"
   ]
  },
  {
   "cell_type": "code",
   "execution_count": null,
   "id": "6aacd25f",
   "metadata": {},
   "outputs": [],
   "source": [
    "def update(frame):\n",
    "    points = keypoints[frame]\n",
    "    filtered_points = f_keypoint[frame]\n",
    "    sc1.set_offsets(points)\n",
    "    sc2.set_offsets(filtered_points)\n",
    "    ax[0].set_title(f'Frame {frame} - Original')\n",
    "    ax[1].set_title(f'Frame {frame} - Filtrado')\n",
    "    return sc1, sc2"
   ]
  },
  {
   "cell_type": "code",
   "execution_count": null,
   "id": "277229ce",
   "metadata": {},
   "outputs": [],
   "source": [
    "anim = FuncAnimation(fig, update, frames=keypoints.shape[0], interval=50, blit=True)\n",
    "HTML(anim.to_jshtml())"
   ]
  },
  {
   "cell_type": "code",
   "execution_count": null,
   "id": "27b795dd",
   "metadata": {},
   "outputs": [],
   "source": [
    "mean_kp = keypoints.mean(axis=0)  # (N, 2)\n",
    "plt.scatter(mean_kp[:, 0], mean_kp[:, 1])\n"
   ]
  },
  {
   "cell_type": "markdown",
   "id": "b377fe0e",
   "metadata": {},
   "source": []
  },
  {
   "cell_type": "code",
   "execution_count": null,
   "id": "4a8b23f8",
   "metadata": {},
   "outputs": [],
   "source": []
  }
 ],
 "metadata": {
  "kernelspec": {
   "display_name": "Sign",
   "language": "python",
   "name": "python3"
  },
  "language_info": {
   "codemirror_mode": {
    "name": "ipython",
    "version": 3
   },
   "file_extension": ".py",
   "mimetype": "text/x-python",
   "name": "python",
   "nbconvert_exporter": "python",
   "pygments_lexer": "ipython3",
   "version": "3.11.11"
  }
 },
 "nbformat": 4,
 "nbformat_minor": 5
}
